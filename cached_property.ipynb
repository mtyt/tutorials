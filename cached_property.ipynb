{
 "cells": [
  {
   "cell_type": "markdown",
   "id": "968be330",
   "metadata": {},
   "source": [
    "# Cached properties\n",
    "The `@property` decorator is a very nice tool to create functions that look like attributes that are computed based on other attributes. However, sometimes, this computation can be quite heavy and slow down the program, especially if you have a property that depends on a property that depends on a property etc.\n",
    "That's where the `@cached_property` from `functools` comes in. This stores the property as an attribute and doesn't recompute it every time it is accessed. However of course the downside is that sometimes we want it to be recomputed, for example when the value of the attribute on which it depends, changes. That problem can be solved by making a getter/setter for the attribute on which it depends. See the examples below."
   ]
  },
  {
   "cell_type": "code",
   "execution_count": 1,
   "id": "6e128b69",
   "metadata": {},
   "outputs": [],
   "source": [
    "from functools import cached_property\n",
    "from time import sleep"
   ]
  },
  {
   "cell_type": "markdown",
   "id": "0b6b9b3d",
   "metadata": {},
   "source": [
    "## Regular @property is recomputed every time"
   ]
  },
  {
   "cell_type": "code",
   "execution_count": 9,
   "id": "b7884382",
   "metadata": {},
   "outputs": [],
   "source": [
    "class Person():\n",
    "    def __init__(self, name='Pol'):\n",
    "        self.name = name\n",
    "        \n",
    "    @property\n",
    "    def sons_name(self):\n",
    "        sleep(4) # Make the program wait for 4 seconds to prove a point\n",
    "        return self.name + 'son'"
   ]
  },
  {
   "cell_type": "code",
   "execution_count": 3,
   "id": "ad28a34e",
   "metadata": {},
   "outputs": [],
   "source": [
    "p1 = Person()"
   ]
  },
  {
   "cell_type": "code",
   "execution_count": 4,
   "id": "1b0c2197",
   "metadata": {},
   "outputs": [
    {
     "name": "stdout",
     "output_type": "stream",
     "text": [
      "takes 4 seconds to return:\n"
     ]
    },
    {
     "data": {
      "text/plain": [
       "'Polson'"
      ]
     },
     "execution_count": 4,
     "metadata": {},
     "output_type": "execute_result"
    }
   ],
   "source": [
    "print(\"takes 4 seconds to return:\")\n",
    "p1.sons_name"
   ]
  },
  {
   "cell_type": "code",
   "execution_count": 5,
   "id": "16ccf41d",
   "metadata": {},
   "outputs": [
    {
     "name": "stdout",
     "output_type": "stream",
     "text": [
      "and AGAIN takes 4 seconds to return:\n"
     ]
    },
    {
     "data": {
      "text/plain": [
       "'Polson'"
      ]
     },
     "execution_count": 5,
     "metadata": {},
     "output_type": "execute_result"
    }
   ],
   "source": [
    "print(\"and AGAIN takes 4 seconds to return:\")\n",
    "p1.sons_name"
   ]
  },
  {
   "cell_type": "markdown",
   "id": "578a9aee",
   "metadata": {},
   "source": [
    "## @cached_property doesn't recompute, but also doesn't update when the value on which it depends, changes:"
   ]
  },
  {
   "cell_type": "code",
   "execution_count": 13,
   "id": "8eeaad68",
   "metadata": {},
   "outputs": [],
   "source": [
    "class Person():\n",
    "    def __init__(self, name='Pol'):\n",
    "        self.name = name\n",
    "        \n",
    "    @cached_property\n",
    "    def sons_name(self):\n",
    "        sleep(4)\n",
    "        return self.name + 'son'"
   ]
  },
  {
   "cell_type": "code",
   "execution_count": 14,
   "id": "63912015",
   "metadata": {},
   "outputs": [],
   "source": [
    "p1 = Person()"
   ]
  },
  {
   "cell_type": "code",
   "execution_count": 15,
   "id": "9a6278e1",
   "metadata": {},
   "outputs": [
    {
     "name": "stdout",
     "output_type": "stream",
     "text": [
      "takes 4 seconds to return:\n"
     ]
    },
    {
     "data": {
      "text/plain": [
       "'Polson'"
      ]
     },
     "execution_count": 15,
     "metadata": {},
     "output_type": "execute_result"
    }
   ],
   "source": [
    "print(\"takes 4 seconds to return:\")\n",
    "p1.sons_name"
   ]
  },
  {
   "cell_type": "code",
   "execution_count": 16,
   "id": "cbe62561",
   "metadata": {},
   "outputs": [
    {
     "name": "stdout",
     "output_type": "stream",
     "text": [
      "Returns faster\n"
     ]
    },
    {
     "data": {
      "text/plain": [
       "'Polson'"
      ]
     },
     "execution_count": 16,
     "metadata": {},
     "output_type": "execute_result"
    }
   ],
   "source": [
    "print(\"Returns faster\")\n",
    "p1.sons_name"
   ]
  },
  {
   "cell_type": "code",
   "execution_count": 17,
   "id": "2927dd2b",
   "metadata": {},
   "outputs": [],
   "source": [
    "p1.name = 'Johan'"
   ]
  },
  {
   "cell_type": "code",
   "execution_count": 18,
   "id": "a4ae96b0",
   "metadata": {},
   "outputs": [
    {
     "name": "stdout",
     "output_type": "stream",
     "text": [
      "Son's name is not updated!\n"
     ]
    },
    {
     "data": {
      "text/plain": [
       "'Polson'"
      ]
     },
     "execution_count": 18,
     "metadata": {},
     "output_type": "execute_result"
    }
   ],
   "source": [
    "print(\"Son's name is not updated!\")\n",
    "p1.sons_name"
   ]
  },
  {
   "cell_type": "markdown",
   "id": "f2d7c098",
   "metadata": {},
   "source": [
    "## Solve this by deleting the @cached_property attribute in the setter of name:"
   ]
  },
  {
   "cell_type": "code",
   "execution_count": 19,
   "id": "1f2a540b",
   "metadata": {},
   "outputs": [],
   "source": [
    "class Person2():\n",
    "    def __init__(self, name='pol'):\n",
    "        self._name = name\n",
    "        \n",
    "    @property\n",
    "    def name(self):\n",
    "        return self._name\n",
    "    \n",
    "    @name.setter\n",
    "    def name(self, x):\n",
    "        self._name = x\n",
    "        print(\"delete sons_name\")\n",
    "        if 'sons_name' in  self.__dict__:\n",
    "            del self.sons_name\n",
    "        \n",
    "    @cached_property\n",
    "    def sons_name(self):\n",
    "        sleep(4)\n",
    "        return self.name + 'son'"
   ]
  },
  {
   "cell_type": "code",
   "execution_count": 20,
   "id": "3cc9b0c2",
   "metadata": {},
   "outputs": [],
   "source": [
    "p2 = Person2()"
   ]
  },
  {
   "cell_type": "code",
   "execution_count": 21,
   "id": "8be817b6",
   "metadata": {},
   "outputs": [
    {
     "name": "stdout",
     "output_type": "stream",
     "text": [
      "takes 4 seconds to return:\n"
     ]
    },
    {
     "data": {
      "text/plain": [
       "'polson'"
      ]
     },
     "execution_count": 21,
     "metadata": {},
     "output_type": "execute_result"
    }
   ],
   "source": [
    "print(\"takes 4 seconds to return:\")\n",
    "p2.sons_name"
   ]
  },
  {
   "cell_type": "code",
   "execution_count": 22,
   "id": "a043ba1f",
   "metadata": {},
   "outputs": [
    {
     "name": "stdout",
     "output_type": "stream",
     "text": [
      "Returns faster\n"
     ]
    },
    {
     "data": {
      "text/plain": [
       "'polson'"
      ]
     },
     "execution_count": 22,
     "metadata": {},
     "output_type": "execute_result"
    }
   ],
   "source": [
    "print(\"Returns faster\")\n",
    "p2.sons_name"
   ]
  },
  {
   "cell_type": "code",
   "execution_count": 23,
   "id": "b65118ec",
   "metadata": {},
   "outputs": [
    {
     "name": "stdout",
     "output_type": "stream",
     "text": [
      "delete sons_name\n"
     ]
    }
   ],
   "source": [
    "p2.name = 'Marie'"
   ]
  },
  {
   "cell_type": "code",
   "execution_count": 24,
   "id": "85acea19",
   "metadata": {},
   "outputs": [
    {
     "name": "stdout",
     "output_type": "stream",
     "text": [
      "The son's name is updated!\n"
     ]
    },
    {
     "data": {
      "text/plain": [
       "'Marieson'"
      ]
     },
     "execution_count": 24,
     "metadata": {},
     "output_type": "execute_result"
    }
   ],
   "source": [
    "print(\"The son's name is updated!\")\n",
    "p2.sons_name"
   ]
  },
  {
   "cell_type": "markdown",
   "id": "5dfad481",
   "metadata": {},
   "source": [
    "## what happens when we have a lot of properties?"
   ]
  },
  {
   "cell_type": "code",
   "execution_count": 25,
   "id": "ba4b405c",
   "metadata": {},
   "outputs": [],
   "source": [
    "class Person2():\n",
    "    def __init__(self, name='pol'):\n",
    "        self._name = 'pol'\n",
    "        \n",
    "    @property\n",
    "    def name(self):\n",
    "        return self._name\n",
    "    \n",
    "    @name.setter\n",
    "    def name(self, x):\n",
    "        self._name = x\n",
    "        list_of_dependent_properties = ['sons_name',\n",
    "                                        'daughters_name']\n",
    "        for prop in list_of_dependent_properties:\n",
    "            if prop in  self.__dict__:\n",
    "                delattr(self,prop)\n",
    "        \n",
    "    @cached_property\n",
    "    def sons_name(self):\n",
    "        sleep(2)\n",
    "        return self.name + 'son'\n",
    "    \n",
    "    @cached_property\n",
    "    def daughters_name(self):\n",
    "        sleep(4)\n",
    "        return self.name + 'dottir'"
   ]
  },
  {
   "cell_type": "code",
   "execution_count": 26,
   "id": "4ee7b2c4",
   "metadata": {},
   "outputs": [],
   "source": [
    "p2 = Person2()"
   ]
  },
  {
   "cell_type": "code",
   "execution_count": 27,
   "id": "d470bafe",
   "metadata": {},
   "outputs": [
    {
     "data": {
      "text/plain": [
       "'polson'"
      ]
     },
     "execution_count": 27,
     "metadata": {},
     "output_type": "execute_result"
    }
   ],
   "source": [
    "p2.sons_name"
   ]
  },
  {
   "cell_type": "code",
   "execution_count": 28,
   "id": "91d257cd",
   "metadata": {},
   "outputs": [
    {
     "data": {
      "text/plain": [
       "'poldottir'"
      ]
     },
     "execution_count": 28,
     "metadata": {},
     "output_type": "execute_result"
    }
   ],
   "source": [
    "p2.daughters_name"
   ]
  },
  {
   "cell_type": "code",
   "execution_count": 29,
   "id": "1ac1fce1",
   "metadata": {},
   "outputs": [],
   "source": [
    "p2.name = 'Claire'"
   ]
  },
  {
   "cell_type": "code",
   "execution_count": 30,
   "id": "95a87ad3",
   "metadata": {},
   "outputs": [
    {
     "data": {
      "text/plain": [
       "'Claireson'"
      ]
     },
     "execution_count": 30,
     "metadata": {},
     "output_type": "execute_result"
    }
   ],
   "source": [
    "p2.sons_name"
   ]
  },
  {
   "cell_type": "code",
   "execution_count": 31,
   "id": "a5584e6d",
   "metadata": {},
   "outputs": [
    {
     "data": {
      "text/plain": [
       "'Clairedottir'"
      ]
     },
     "execution_count": 31,
     "metadata": {},
     "output_type": "execute_result"
    }
   ],
   "source": [
    "p2.daughters_name"
   ]
  },
  {
   "cell_type": "markdown",
   "id": "6a501962",
   "metadata": {},
   "source": [
    "## Closing notes\n",
    "I've shown an example where multiple `@cached_property` (`sons_name, daughters_name`) depend on the same attribute (`name`). So we just need to edit the setter of name when we add more `@cached_property`. But if a `@cached_property` depends on more than 1 attribute, they all need to have setters. This might get complicated..."
   ]
  },
  {
   "cell_type": "code",
   "execution_count": null,
   "id": "cb50e06d",
   "metadata": {},
   "outputs": [],
   "source": []
  }
 ],
 "metadata": {
  "kernelspec": {
   "display_name": "Python 3 (ipykernel)",
   "language": "python",
   "name": "python3"
  },
  "language_info": {
   "codemirror_mode": {
    "name": "ipython",
    "version": 3
   },
   "file_extension": ".py",
   "mimetype": "text/x-python",
   "name": "python",
   "nbconvert_exporter": "python",
   "pygments_lexer": "ipython3",
   "version": "3.9.7"
  },
  "vscode": {
   "interpreter": {
    "hash": "949510482b8eeb0db0de64008f8e13a21a90dd06afd7a8e21dd837eed22f74f3"
   }
  }
 },
 "nbformat": 4,
 "nbformat_minor": 5
}
